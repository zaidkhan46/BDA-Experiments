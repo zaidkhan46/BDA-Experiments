{
 "cells": [
  {
   "cell_type": "code",
   "execution_count": 1,
   "id": "784190e0",
   "metadata": {},
   "outputs": [],
   "source": [
    "# Aim : To perform hypothesis testing using ANOVA (F-TEST) One-Way F-Test(Anova)."
   ]
  },
  {
   "cell_type": "code",
   "execution_count": 2,
   "id": "0e53d41d",
   "metadata": {},
   "outputs": [],
   "source": [
    "# Name:ZAID KHAN \n",
    "# Roll No:76\n",
    "# Section:A"
   ]
  },
  {
   "cell_type": "markdown",
   "id": "26f356a0",
   "metadata": {},
   "source": [
    "\n",
    "# F-TEST"
   ]
  },
  {
   "cell_type": "code",
   "execution_count": 4,
   "id": "e27a8260",
   "metadata": {},
   "outputs": [],
   "source": [
    "ages=[10,20,35,50,28,40,55,18,16,55,30,25,43,18,30,28,14,24,16,17,32,35,26,27,65,18,43,23,21,20,19,70,80,81,82,83,84,85,86,87,89,88,90,91,92,93,94,95,96,97,98,99,100,74,79,68]"
   ]
  },
  {
   "cell_type": "code",
   "execution_count": 5,
   "id": "c5d1d51c",
   "metadata": {},
   "outputs": [
    {
     "data": {
      "text/plain": [
       "56"
      ]
     },
     "execution_count": 5,
     "metadata": {},
     "output_type": "execute_result"
    }
   ],
   "source": [
    "len(ages)"
   ]
  },
  {
   "cell_type": "code",
   "execution_count": 6,
   "id": "e32cba6e",
   "metadata": {},
   "outputs": [],
   "source": [
    "import numpy as np"
   ]
  },
  {
   "cell_type": "code",
   "execution_count": 7,
   "id": "94de0f5e",
   "metadata": {},
   "outputs": [],
   "source": [
    "## Lets take sample\n",
    "\n",
    "sample_size=10\n",
    "age_sample=np.random.choice(ages,sample_size)"
   ]
  },
  {
   "cell_type": "code",
   "execution_count": 8,
   "id": "3ceaf107",
   "metadata": {},
   "outputs": [],
   "source": [
    "# Python program to implement One-Way f-test\n",
    "# Importing the required libraries\n",
    "import scipy.stats\n",
    "import numpy as np"
   ]
  },
  {
   "cell_type": "code",
   "execution_count": 9,
   "id": "d5ff674c",
   "metadata": {},
   "outputs": [],
   "source": [
    "# Creating sample data\n",
    "data1 = [0.0842, 0.0368, 0.0847, 0.0935, 0.0376, 0.0963, 0.0684,\n",
    "0.0758, 0.0854, 0.0855]\n",
    "data2 = [0.0785, 0.0845, 0.0758, 0.0853, 0.0946, 0.0785, 0.0853,\n",
    "0.0685]\n",
    "data3 = [0.0864, 0.2522, 0.0894, 0.2724, 0.0853, 0.1367, 0.853]"
   ]
  },
  {
   "cell_type": "code",
   "execution_count": 10,
   "id": "60c4e334",
   "metadata": {},
   "outputs": [
    {
     "name": "stdout",
     "output_type": "stream",
     "text": [
      "p-value is:  0.04043792126789144\n"
     ]
    }
   ],
   "source": [
    "# Performing the F-Test\n",
    "f_test, p_val = scipy.stats.f_oneway(data1, data2, data3)\n",
    "print(\"p-value is: \", p_val)"
   ]
  },
  {
   "cell_type": "code",
   "execution_count": 11,
   "id": "631702a9",
   "metadata": {},
   "outputs": [
    {
     "name": "stdout",
     "output_type": "stream",
     "text": [
      " We can reject the null hypothesis\n"
     ]
    }
   ],
   "source": [
    "# taking the threshold value as 0.05 or 5%\n",
    "if p_val < 0.05:\n",
    "    print(\" We can reject the null hypothesis\")\n",
    "else:\n",
    "    print(\"We can accept the null hypothesis\")"
   ]
  },
  {
   "cell_type": "code",
   "execution_count": 12,
   "id": "59cb5c07",
   "metadata": {},
   "outputs": [],
   "source": [
    "variance1 = np.var(data1)"
   ]
  },
  {
   "cell_type": "code",
   "execution_count": 13,
   "id": "099ed884",
   "metadata": {},
   "outputs": [
    {
     "name": "stdout",
     "output_type": "stream",
     "text": [
      "0.00040949560000000005\n"
     ]
    }
   ],
   "source": [
    "\n",
    "print(variance1)"
   ]
  },
  {
   "cell_type": "code",
   "execution_count": 14,
   "id": "ec019823",
   "metadata": {},
   "outputs": [],
   "source": [
    "variance2 = np.var(data2)\n"
   ]
  },
  {
   "cell_type": "code",
   "execution_count": 15,
   "id": "35bbe021",
   "metadata": {},
   "outputs": [
    {
     "name": "stdout",
     "output_type": "stream",
     "text": [
      "5.3606874999999995e-05\n"
     ]
    }
   ],
   "source": [
    "print(variance2)"
   ]
  },
  {
   "cell_type": "code",
   "execution_count": 16,
   "id": "94bf55e5",
   "metadata": {},
   "outputs": [],
   "source": [
    "\n",
    "variance3 = np.var(data3)"
   ]
  },
  {
   "cell_type": "code",
   "execution_count": 17,
   "id": "0931dcaa",
   "metadata": {},
   "outputs": [
    {
     "name": "stdout",
     "output_type": "stream",
     "text": [
      "0.06522053346938775\n"
     ]
    }
   ],
   "source": [
    "print(variance3)"
   ]
  }
 ],
 "metadata": {
  "kernelspec": {
   "display_name": "Python 3 (ipykernel)",
   "language": "python",
   "name": "python3"
  },
  "language_info": {
   "codemirror_mode": {
    "name": "ipython",
    "version": 3
   },
   "file_extension": ".py",
   "mimetype": "text/x-python",
   "name": "python",
   "nbconvert_exporter": "python",
   "pygments_lexer": "ipython3",
   "version": "3.11.5"
  }
 },
 "nbformat": 4,
 "nbformat_minor": 5
}
