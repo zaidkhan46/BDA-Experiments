{
 "cells": [
  {
   "cell_type": "code",
   "execution_count": 1,
   "id": "974b1301",
   "metadata": {},
   "outputs": [],
   "source": [
    "# Aim: To perform hypothesis testing using To perform Z-test."
   ]
  },
  {
   "cell_type": "code",
   "execution_count": 2,
   "id": "5dcba85e",
   "metadata": {},
   "outputs": [],
   "source": [
    "# Name:ZAID KHAN \n",
    "# Roll No:76\n",
    "# Section:A"
   ]
  },
  {
   "cell_type": "markdown",
   "id": "7bb1b59c",
   "metadata": {},
   "source": [
    "# Z Test"
   ]
  },
  {
   "cell_type": "code",
   "execution_count": 3,
   "id": "d26a30d4",
   "metadata": {},
   "outputs": [],
   "source": [
    "ages=[10,20,35,50,28,40,55,18,16,55,30,25,43,18,30,28,14,24,16,17,32,35,26,27,65,18,43,23,21,20,19,70]\n"
   ]
  },
  {
   "cell_type": "code",
   "execution_count": 4,
   "id": "59935c3b",
   "metadata": {},
   "outputs": [
    {
     "data": {
      "text/plain": [
       "32"
      ]
     },
     "execution_count": 4,
     "metadata": {},
     "output_type": "execute_result"
    }
   ],
   "source": [
    "\n",
    "len(ages)"
   ]
  },
  {
   "cell_type": "code",
   "execution_count": 5,
   "id": "043f353f",
   "metadata": {},
   "outputs": [
    {
     "name": "stdout",
     "output_type": "stream",
     "text": [
      "30.34375\n"
     ]
    }
   ],
   "source": [
    "\n",
    "import numpy as np\n",
    "ages_mean=np.mean(ages)\n",
    "print(ages_mean)"
   ]
  },
  {
   "cell_type": "code",
   "execution_count": 6,
   "id": "ff4f761c",
   "metadata": {},
   "outputs": [],
   "source": [
    "## Lets take sample\n",
    "\n",
    "sample_size=31\n",
    "age_sample=np.random.choice(ages,sample_size)"
   ]
  },
  {
   "cell_type": "code",
   "execution_count": 7,
   "id": "178c25e1",
   "metadata": {},
   "outputs": [
    {
     "data": {
      "text/plain": [
       "array([18, 16, 28, 21, 30, 35, 28, 19, 24, 19, 28, 70, 20, 18, 20, 26, 20,\n",
       "       17, 28, 26, 23, 55, 65, 43, 40, 21, 55, 30, 18, 70, 50])"
      ]
     },
     "execution_count": 7,
     "metadata": {},
     "output_type": "execute_result"
    }
   ],
   "source": [
    "age_sample"
   ]
  },
  {
   "cell_type": "code",
   "execution_count": 8,
   "id": "73606bba",
   "metadata": {},
   "outputs": [],
   "source": [
    "# from scipy.stats import ztest_1samp"
   ]
  },
  {
   "cell_type": "code",
   "execution_count": 9,
   "id": "ea809d0a",
   "metadata": {},
   "outputs": [
    {
     "name": "stdout",
     "output_type": "stream",
     "text": [
      "ztest 10.844535698114628\n",
      "P-value: 2.11708059365887e-27\n"
     ]
    }
   ],
   "source": [
    "from statsmodels.stats import weightstats as stests\n",
    "\n",
    "# Perform one-sample z-test\n",
    "ztest, p_value = stests.ztest(age_sample)\n",
    "\n",
    "# Print the results\n",
    "print(\"ztest\", ztest)\n",
    "print(\"P-value:\", p_value)"
   ]
  },
  {
   "cell_type": "code",
   "execution_count": 10,
   "id": "31c22635",
   "metadata": {},
   "outputs": [
    {
     "name": "stdout",
     "output_type": "stream",
     "text": [
      " we are rejecting null hypothesis\n"
     ]
    }
   ],
   "source": [
    "if p_value < 0.05:    # alpha value is 0.05 or 5%    (Level of significance)\n",
    "    print(\" we are rejecting null hypothesis\")\n",
    "else:\n",
    "    print(\"we are accepting null hypothesis\")"
   ]
  }
 ],
 "metadata": {
  "kernelspec": {
   "display_name": "Python 3 (ipykernel)",
   "language": "python",
   "name": "python3"
  },
  "language_info": {
   "codemirror_mode": {
    "name": "ipython",
    "version": 3
   },
   "file_extension": ".py",
   "mimetype": "text/x-python",
   "name": "python",
   "nbconvert_exporter": "python",
   "pygments_lexer": "ipython3",
   "version": "3.11.5"
  }
 },
 "nbformat": 4,
 "nbformat_minor": 5
}
